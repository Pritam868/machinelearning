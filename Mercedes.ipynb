{
 "cells": [
  {
   "cell_type": "code",
   "execution_count": 2,
   "metadata": {},
   "outputs": [
    {
     "name": "stderr",
     "output_type": "stream",
     "text": [
      "C:\\Users\\user\\anaconda3\\lib\\importlib\\_bootstrap.py:219: RuntimeWarning: numpy.ufunc size changed, may indicate binary incompatibility. Expected 192 from C header, got 216 from PyObject\n",
      "  return f(*args, **kwds)\n",
      "C:\\Users\\user\\anaconda3\\lib\\importlib\\_bootstrap.py:219: RuntimeWarning: numpy.ufunc size changed, may indicate binary incompatibility. Expected 192 from C header, got 216 from PyObject\n",
      "  return f(*args, **kwds)\n"
     ]
    }
   ],
   "source": [
    "import pandas as pd\n",
    "import numpy as np\n",
    "from sklearn.decomposition import PCA"
   ]
  },
  {
   "cell_type": "code",
   "execution_count": 3,
   "metadata": {},
   "outputs": [
    {
     "name": "stdout",
     "output_type": "stream",
     "text": [
      "Size of training set: 4209 rows and 378 columns\n"
     ]
    }
   ],
   "source": [
    "df_train = pd.read_csv('train.csv')\n",
    "print('Size of training set: {} rows and {} columns'\n",
    "      .format(*df_train.shape))"
   ]
  },
  {
   "cell_type": "code",
   "execution_count": 4,
   "metadata": {},
   "outputs": [
    {
     "data": {
      "text/html": [
       "<div>\n",
       "<style scoped>\n",
       "    .dataframe tbody tr th:only-of-type {\n",
       "        vertical-align: middle;\n",
       "    }\n",
       "\n",
       "    .dataframe tbody tr th {\n",
       "        vertical-align: top;\n",
       "    }\n",
       "\n",
       "    .dataframe thead th {\n",
       "        text-align: right;\n",
       "    }\n",
       "</style>\n",
       "<table border=\"1\" class=\"dataframe\">\n",
       "  <thead>\n",
       "    <tr style=\"text-align: right;\">\n",
       "      <th></th>\n",
       "      <th>ID</th>\n",
       "      <th>y</th>\n",
       "      <th>X0</th>\n",
       "      <th>X1</th>\n",
       "      <th>X2</th>\n",
       "      <th>X3</th>\n",
       "      <th>X4</th>\n",
       "      <th>X5</th>\n",
       "      <th>X6</th>\n",
       "      <th>X8</th>\n",
       "      <th>...</th>\n",
       "      <th>X375</th>\n",
       "      <th>X376</th>\n",
       "      <th>X377</th>\n",
       "      <th>X378</th>\n",
       "      <th>X379</th>\n",
       "      <th>X380</th>\n",
       "      <th>X382</th>\n",
       "      <th>X383</th>\n",
       "      <th>X384</th>\n",
       "      <th>X385</th>\n",
       "    </tr>\n",
       "  </thead>\n",
       "  <tbody>\n",
       "    <tr>\n",
       "      <th>0</th>\n",
       "      <td>0</td>\n",
       "      <td>130.81</td>\n",
       "      <td>k</td>\n",
       "      <td>v</td>\n",
       "      <td>at</td>\n",
       "      <td>a</td>\n",
       "      <td>d</td>\n",
       "      <td>u</td>\n",
       "      <td>j</td>\n",
       "      <td>o</td>\n",
       "      <td>...</td>\n",
       "      <td>0</td>\n",
       "      <td>0</td>\n",
       "      <td>1</td>\n",
       "      <td>0</td>\n",
       "      <td>0</td>\n",
       "      <td>0</td>\n",
       "      <td>0</td>\n",
       "      <td>0</td>\n",
       "      <td>0</td>\n",
       "      <td>0</td>\n",
       "    </tr>\n",
       "    <tr>\n",
       "      <th>1</th>\n",
       "      <td>6</td>\n",
       "      <td>88.53</td>\n",
       "      <td>k</td>\n",
       "      <td>t</td>\n",
       "      <td>av</td>\n",
       "      <td>e</td>\n",
       "      <td>d</td>\n",
       "      <td>y</td>\n",
       "      <td>l</td>\n",
       "      <td>o</td>\n",
       "      <td>...</td>\n",
       "      <td>1</td>\n",
       "      <td>0</td>\n",
       "      <td>0</td>\n",
       "      <td>0</td>\n",
       "      <td>0</td>\n",
       "      <td>0</td>\n",
       "      <td>0</td>\n",
       "      <td>0</td>\n",
       "      <td>0</td>\n",
       "      <td>0</td>\n",
       "    </tr>\n",
       "    <tr>\n",
       "      <th>2</th>\n",
       "      <td>7</td>\n",
       "      <td>76.26</td>\n",
       "      <td>az</td>\n",
       "      <td>w</td>\n",
       "      <td>n</td>\n",
       "      <td>c</td>\n",
       "      <td>d</td>\n",
       "      <td>x</td>\n",
       "      <td>j</td>\n",
       "      <td>x</td>\n",
       "      <td>...</td>\n",
       "      <td>0</td>\n",
       "      <td>0</td>\n",
       "      <td>0</td>\n",
       "      <td>0</td>\n",
       "      <td>0</td>\n",
       "      <td>0</td>\n",
       "      <td>1</td>\n",
       "      <td>0</td>\n",
       "      <td>0</td>\n",
       "      <td>0</td>\n",
       "    </tr>\n",
       "    <tr>\n",
       "      <th>3</th>\n",
       "      <td>9</td>\n",
       "      <td>80.62</td>\n",
       "      <td>az</td>\n",
       "      <td>t</td>\n",
       "      <td>n</td>\n",
       "      <td>f</td>\n",
       "      <td>d</td>\n",
       "      <td>x</td>\n",
       "      <td>l</td>\n",
       "      <td>e</td>\n",
       "      <td>...</td>\n",
       "      <td>0</td>\n",
       "      <td>0</td>\n",
       "      <td>0</td>\n",
       "      <td>0</td>\n",
       "      <td>0</td>\n",
       "      <td>0</td>\n",
       "      <td>0</td>\n",
       "      <td>0</td>\n",
       "      <td>0</td>\n",
       "      <td>0</td>\n",
       "    </tr>\n",
       "    <tr>\n",
       "      <th>4</th>\n",
       "      <td>13</td>\n",
       "      <td>78.02</td>\n",
       "      <td>az</td>\n",
       "      <td>v</td>\n",
       "      <td>n</td>\n",
       "      <td>f</td>\n",
       "      <td>d</td>\n",
       "      <td>h</td>\n",
       "      <td>d</td>\n",
       "      <td>n</td>\n",
       "      <td>...</td>\n",
       "      <td>0</td>\n",
       "      <td>0</td>\n",
       "      <td>0</td>\n",
       "      <td>0</td>\n",
       "      <td>0</td>\n",
       "      <td>0</td>\n",
       "      <td>0</td>\n",
       "      <td>0</td>\n",
       "      <td>0</td>\n",
       "      <td>0</td>\n",
       "    </tr>\n",
       "  </tbody>\n",
       "</table>\n",
       "<p>5 rows × 378 columns</p>\n",
       "</div>"
      ],
      "text/plain": [
       "   ID       y  X0 X1  X2 X3 X4 X5 X6 X8  ...  X375  X376  X377  X378  X379  \\\n",
       "0   0  130.81   k  v  at  a  d  u  j  o  ...     0     0     1     0     0   \n",
       "1   6   88.53   k  t  av  e  d  y  l  o  ...     1     0     0     0     0   \n",
       "2   7   76.26  az  w   n  c  d  x  j  x  ...     0     0     0     0     0   \n",
       "3   9   80.62  az  t   n  f  d  x  l  e  ...     0     0     0     0     0   \n",
       "4  13   78.02  az  v   n  f  d  h  d  n  ...     0     0     0     0     0   \n",
       "\n",
       "   X380  X382  X383  X384  X385  \n",
       "0     0     0     0     0     0  \n",
       "1     0     0     0     0     0  \n",
       "2     0     1     0     0     0  \n",
       "3     0     0     0     0     0  \n",
       "4     0     0     0     0     0  \n",
       "\n",
       "[5 rows x 378 columns]"
      ]
     },
     "execution_count": 4,
     "metadata": {},
     "output_type": "execute_result"
    }
   ],
   "source": [
    "df_train.head()"
   ]
  },
  {
   "cell_type": "code",
   "execution_count": 5,
   "metadata": {},
   "outputs": [],
   "source": [
    "y_train = df_train['y'].values"
   ]
  },
  {
   "cell_type": "code",
   "execution_count": 6,
   "metadata": {},
   "outputs": [
    {
     "name": "stdout",
     "output_type": "stream",
     "text": [
      "Number of features: 376\n"
     ]
    }
   ],
   "source": [
    "cols = [c for c in df_train.columns if 'X' in c]\n",
    "print('Number of features: {}'.format(len(cols)))"
   ]
  },
  {
   "cell_type": "code",
   "execution_count": 7,
   "metadata": {},
   "outputs": [
    {
     "name": "stdout",
     "output_type": "stream",
     "text": [
      "Feature types:\n"
     ]
    },
    {
     "data": {
      "text/plain": [
       "int64     368\n",
       "object      8\n",
       "dtype: int64"
      ]
     },
     "execution_count": 7,
     "metadata": {},
     "output_type": "execute_result"
    }
   ],
   "source": [
    "print('Feature types:')\n",
    "df_train[cols].dtypes.value_counts()"
   ]
  },
  {
   "cell_type": "code",
   "execution_count": 8,
   "metadata": {},
   "outputs": [],
   "source": [
    "counts = [[], [], []]\n",
    "for c in cols:\n",
    "    typ = df_train[c].dtype\n",
    "    uniq = len(np.unique(df_train[c]))\n",
    "    if uniq == 1:\n",
    "        counts[0].append(c)\n",
    "    elif uniq == 2 and typ == np.int64:\n",
    "        counts[1].append(c)\n",
    "    else:\n",
    "        counts[2].append(c)"
   ]
  },
  {
   "cell_type": "code",
   "execution_count": 9,
   "metadata": {},
   "outputs": [
    {
     "name": "stdout",
     "output_type": "stream",
     "text": [
      "Constant features: 12 Binary features: 356 Categorical features: 8\n",
      "\n",
      "Constant features: ['X11', 'X93', 'X107', 'X233', 'X235', 'X268', 'X289', 'X290', 'X293', 'X297', 'X330', 'X347']\n",
      "Categorical features: ['X0', 'X1', 'X2', 'X3', 'X4', 'X5', 'X6', 'X8']\n"
     ]
    }
   ],
   "source": [
    "print('Constant features: {} Binary features: {} Categorical features: {}\\n'\n",
    "      .format(*[len(c) for c in counts]))\n",
    "print('Constant features:', counts[0])\n",
    "print('Categorical features:', counts[2])"
   ]
  },
  {
   "cell_type": "code",
   "execution_count": 10,
   "metadata": {},
   "outputs": [],
   "source": [
    "# Test Data\n",
    "df_test = pd.read_csv('test.csv')"
   ]
  },
  {
   "cell_type": "code",
   "execution_count": 11,
   "metadata": {},
   "outputs": [],
   "source": [
    "usable_columns = list(set(df_train.columns) - set(['ID', 'y']))\n",
    "y_train = df_train['y'].values\n",
    "id_test = df_test['ID'].values"
   ]
  },
  {
   "cell_type": "code",
   "execution_count": 12,
   "metadata": {},
   "outputs": [],
   "source": [
    "x_train = df_train[usable_columns]\n",
    "x_test = df_test[usable_columns]"
   ]
  },
  {
   "cell_type": "code",
   "execution_count": 13,
   "metadata": {},
   "outputs": [
    {
     "name": "stdout",
     "output_type": "stream",
     "text": [
      "There are no missing values in the dataframe\n",
      "There are no missing values in the dataframe\n"
     ]
    }
   ],
   "source": [
    "def check_missing_values(df):\n",
    "    if df.isnull().any().any():\n",
    "        print(\"There are missing values in the dataframe\")\n",
    "    else:\n",
    "        print(\"There are no missing values in the dataframe\")\n",
    "check_missing_values(x_train)\n",
    "check_missing_values(x_test)"
   ]
  },
  {
   "cell_type": "code",
   "execution_count": 14,
   "metadata": {},
   "outputs": [
    {
     "name": "stderr",
     "output_type": "stream",
     "text": [
      "C:\\Users\\user\\anaconda3\\lib\\site-packages\\ipykernel_launcher.py:9: SettingWithCopyWarning: \n",
      "A value is trying to be set on a copy of a slice from a DataFrame.\n",
      "Try using .loc[row_indexer,col_indexer] = value instead\n",
      "\n",
      "See the caveats in the documentation: https://pandas.pydata.org/pandas-docs/stable/user_guide/indexing.html#returning-a-view-versus-a-copy\n",
      "  if __name__ == '__main__':\n",
      "C:\\Users\\user\\anaconda3\\lib\\site-packages\\ipykernel_launcher.py:10: SettingWithCopyWarning: \n",
      "A value is trying to be set on a copy of a slice from a DataFrame.\n",
      "Try using .loc[row_indexer,col_indexer] = value instead\n",
      "\n",
      "See the caveats in the documentation: https://pandas.pydata.org/pandas-docs/stable/user_guide/indexing.html#returning-a-view-versus-a-copy\n",
      "  # Remove the CWD from sys.path while we load stuff.\n"
     ]
    },
    {
     "data": {
      "text/html": [
       "<div>\n",
       "<style scoped>\n",
       "    .dataframe tbody tr th:only-of-type {\n",
       "        vertical-align: middle;\n",
       "    }\n",
       "\n",
       "    .dataframe tbody tr th {\n",
       "        vertical-align: top;\n",
       "    }\n",
       "\n",
       "    .dataframe thead th {\n",
       "        text-align: right;\n",
       "    }\n",
       "</style>\n",
       "<table border=\"1\" class=\"dataframe\">\n",
       "  <thead>\n",
       "    <tr style=\"text-align: right;\">\n",
       "      <th></th>\n",
       "      <th>X349</th>\n",
       "      <th>X186</th>\n",
       "      <th>X295</th>\n",
       "      <th>X296</th>\n",
       "      <th>X197</th>\n",
       "      <th>X184</th>\n",
       "      <th>X101</th>\n",
       "      <th>X80</th>\n",
       "      <th>X48</th>\n",
       "      <th>X238</th>\n",
       "      <th>...</th>\n",
       "      <th>X198</th>\n",
       "      <th>X135</th>\n",
       "      <th>X241</th>\n",
       "      <th>X159</th>\n",
       "      <th>X179</th>\n",
       "      <th>X153</th>\n",
       "      <th>X34</th>\n",
       "      <th>X254</th>\n",
       "      <th>X14</th>\n",
       "      <th>X324</th>\n",
       "    </tr>\n",
       "  </thead>\n",
       "  <tbody>\n",
       "    <tr>\n",
       "      <th>0</th>\n",
       "      <td>0</td>\n",
       "      <td>0</td>\n",
       "      <td>0</td>\n",
       "      <td>0</td>\n",
       "      <td>0</td>\n",
       "      <td>1</td>\n",
       "      <td>0</td>\n",
       "      <td>0</td>\n",
       "      <td>0</td>\n",
       "      <td>0</td>\n",
       "      <td>...</td>\n",
       "      <td>0</td>\n",
       "      <td>0</td>\n",
       "      <td>0</td>\n",
       "      <td>0</td>\n",
       "      <td>1</td>\n",
       "      <td>0</td>\n",
       "      <td>0</td>\n",
       "      <td>0</td>\n",
       "      <td>0</td>\n",
       "      <td>1</td>\n",
       "    </tr>\n",
       "    <tr>\n",
       "      <th>1</th>\n",
       "      <td>0</td>\n",
       "      <td>0</td>\n",
       "      <td>0</td>\n",
       "      <td>0</td>\n",
       "      <td>0</td>\n",
       "      <td>0</td>\n",
       "      <td>1</td>\n",
       "      <td>1</td>\n",
       "      <td>0</td>\n",
       "      <td>1</td>\n",
       "      <td>...</td>\n",
       "      <td>0</td>\n",
       "      <td>0</td>\n",
       "      <td>0</td>\n",
       "      <td>0</td>\n",
       "      <td>0</td>\n",
       "      <td>0</td>\n",
       "      <td>0</td>\n",
       "      <td>0</td>\n",
       "      <td>0</td>\n",
       "      <td>0</td>\n",
       "    </tr>\n",
       "    <tr>\n",
       "      <th>2</th>\n",
       "      <td>0</td>\n",
       "      <td>0</td>\n",
       "      <td>0</td>\n",
       "      <td>0</td>\n",
       "      <td>0</td>\n",
       "      <td>0</td>\n",
       "      <td>1</td>\n",
       "      <td>1</td>\n",
       "      <td>0</td>\n",
       "      <td>0</td>\n",
       "      <td>...</td>\n",
       "      <td>0</td>\n",
       "      <td>0</td>\n",
       "      <td>1</td>\n",
       "      <td>0</td>\n",
       "      <td>1</td>\n",
       "      <td>0</td>\n",
       "      <td>0</td>\n",
       "      <td>0</td>\n",
       "      <td>0</td>\n",
       "      <td>1</td>\n",
       "    </tr>\n",
       "    <tr>\n",
       "      <th>3</th>\n",
       "      <td>0</td>\n",
       "      <td>0</td>\n",
       "      <td>0</td>\n",
       "      <td>0</td>\n",
       "      <td>0</td>\n",
       "      <td>0</td>\n",
       "      <td>1</td>\n",
       "      <td>1</td>\n",
       "      <td>0</td>\n",
       "      <td>0</td>\n",
       "      <td>...</td>\n",
       "      <td>0</td>\n",
       "      <td>0</td>\n",
       "      <td>1</td>\n",
       "      <td>0</td>\n",
       "      <td>1</td>\n",
       "      <td>0</td>\n",
       "      <td>0</td>\n",
       "      <td>0</td>\n",
       "      <td>0</td>\n",
       "      <td>0</td>\n",
       "    </tr>\n",
       "    <tr>\n",
       "      <th>4</th>\n",
       "      <td>0</td>\n",
       "      <td>0</td>\n",
       "      <td>0</td>\n",
       "      <td>0</td>\n",
       "      <td>0</td>\n",
       "      <td>0</td>\n",
       "      <td>1</td>\n",
       "      <td>1</td>\n",
       "      <td>0</td>\n",
       "      <td>0</td>\n",
       "      <td>...</td>\n",
       "      <td>0</td>\n",
       "      <td>0</td>\n",
       "      <td>0</td>\n",
       "      <td>0</td>\n",
       "      <td>1</td>\n",
       "      <td>0</td>\n",
       "      <td>0</td>\n",
       "      <td>0</td>\n",
       "      <td>0</td>\n",
       "      <td>0</td>\n",
       "    </tr>\n",
       "  </tbody>\n",
       "</table>\n",
       "<p>5 rows × 376 columns</p>\n",
       "</div>"
      ],
      "text/plain": [
       "   X349  X186  X295  X296  X197  X184  X101  X80  X48  X238  ...  X198  X135  \\\n",
       "0     0     0     0     0     0     1     0    0    0     0  ...     0     0   \n",
       "1     0     0     0     0     0     0     1    1    0     1  ...     0     0   \n",
       "2     0     0     0     0     0     0     1    1    0     0  ...     0     0   \n",
       "3     0     0     0     0     0     0     1    1    0     0  ...     0     0   \n",
       "4     0     0     0     0     0     0     1    1    0     0  ...     0     0   \n",
       "\n",
       "   X241  X159  X179  X153  X34  X254  X14  X324  \n",
       "0     0     0     1     0    0     0    0     1  \n",
       "1     0     0     0     0    0     0    0     0  \n",
       "2     1     0     1     0    0     0    0     1  \n",
       "3     1     0     1     0    0     0    0     0  \n",
       "4     0     0     1     0    0     0    0     0  \n",
       "\n",
       "[5 rows x 376 columns]"
      ]
     },
     "execution_count": 14,
     "metadata": {},
     "output_type": "execute_result"
    }
   ],
   "source": [
    "for column in usable_columns:\n",
    "    cardinality = len(np.unique(x_train[column]))\n",
    "    if cardinality == 1:\n",
    "        x_train.drop(column, axis=1) # Column with only one \n",
    "        # value is useless so we drop it\n",
    "        x_test.drop(column, axis=1)\n",
    "    if cardinality > 2: # Column is categorical\n",
    "        mapper = lambda x: sum([ord(digit) for digit in x])\n",
    "        x_train[column] = x_train[column].apply(mapper)\n",
    "        x_test[column] = x_test[column].apply(mapper)\n",
    "x_train.head()"
   ]
  },
  {
   "cell_type": "code",
   "execution_count": 15,
   "metadata": {},
   "outputs": [
    {
     "name": "stdout",
     "output_type": "stream",
     "text": [
      "Feature types:\n"
     ]
    },
    {
     "data": {
      "text/plain": [
       "int64    376\n",
       "dtype: int64"
      ]
     },
     "execution_count": 15,
     "metadata": {},
     "output_type": "execute_result"
    }
   ],
   "source": [
    "print('Feature types:')\n",
    "x_train[cols].dtypes.value_counts()"
   ]
  },
  {
   "cell_type": "code",
   "execution_count": 16,
   "metadata": {},
   "outputs": [],
   "source": [
    "n_comp = 12\n",
    "pca = PCA(n_components=n_comp, random_state=420)\n",
    "pca2_results_train = pca.fit_transform(x_train)\n",
    "pca2_results_test = pca.transform(x_test)\n"
   ]
  },
  {
   "cell_type": "code",
   "execution_count": 18,
   "metadata": {},
   "outputs": [
    {
     "name": "stderr",
     "output_type": "stream",
     "text": [
      "C:\\Users\\user\\anaconda3\\lib\\importlib\\_bootstrap.py:219: RuntimeWarning: numpy.ufunc size changed, may indicate binary incompatibility. Expected 192 from C header, got 216 from PyObject\n",
      "  return f(*args, **kwds)\n"
     ]
    }
   ],
   "source": [
    "import xgboost as xgb\n",
    "from sklearn.metrics import r2_score\n",
    "from sklearn.model_selection import train_test_split"
   ]
  },
  {
   "cell_type": "code",
   "execution_count": 19,
   "metadata": {},
   "outputs": [],
   "source": [
    "x_train, x_valid, y_train, y_valid = train_test_split(\n",
    "        pca2_results_train, \n",
    "        y_train, test_size=0.2, \n",
    "        random_state=4242)"
   ]
  },
  {
   "cell_type": "code",
   "execution_count": 20,
   "metadata": {},
   "outputs": [],
   "source": [
    "d_train = xgb.DMatrix(x_train, label=y_train)\n",
    "d_valid = xgb.DMatrix(x_valid, label=y_valid)\n",
    "#d_test = xgb.DMatrix(x_test)\n",
    "d_test = xgb.DMatrix(pca2_results_test)"
   ]
  },
  {
   "cell_type": "code",
   "execution_count": 21,
   "metadata": {},
   "outputs": [],
   "source": [
    "params = {}\n",
    "params['objective'] = 'reg:linear'\n",
    "params['eta'] = 0.02\n",
    "params['max_depth'] = 4"
   ]
  },
  {
   "cell_type": "code",
   "execution_count": 22,
   "metadata": {},
   "outputs": [],
   "source": [
    "def xgb_r2_score(preds, dtrain):\n",
    "    labels = dtrain.get_label()\n",
    "    return 'r2', r2_score(labels, preds)"
   ]
  },
  {
   "cell_type": "code",
   "execution_count": 23,
   "metadata": {},
   "outputs": [],
   "source": [
    "watchlist = [(d_train, 'train'), (d_valid, 'valid')]"
   ]
  },
  {
   "cell_type": "code",
   "execution_count": 24,
   "metadata": {},
   "outputs": [
    {
     "name": "stdout",
     "output_type": "stream",
     "text": [
      "[07:20:11] WARNING: C:/Users/Administrator/workspace/xgboost-win64_release_1.1.0/src/objective/regression_obj.cu:170: reg:linear is now deprecated in favor of reg:squarederror.\n",
      "[0]\ttrain-rmse:99.14835\tvalid-rmse:98.26297\ttrain-r2:-58.35295\tvalid-r2:-67.63754\n",
      "Multiple eval metrics have been passed: 'valid-r2' will be used for early stopping.\n",
      "\n",
      "Will train until valid-r2 hasn't improved in 50 rounds.\n",
      "[10]\ttrain-rmse:81.27651\tvalid-rmse:80.36433\ttrain-r2:-38.88428\tvalid-r2:-44.91014\n",
      "[20]\ttrain-rmse:66.71610\tvalid-rmse:65.77334\ttrain-r2:-25.87403\tvalid-r2:-29.75260\n",
      "[30]\ttrain-rmse:54.86915\tvalid-rmse:53.89119\ttrain-r2:-17.17724\tvalid-r2:-19.64513\n",
      "[40]\ttrain-rmse:45.24564\tvalid-rmse:44.22232\ttrain-r2:-11.36018\tvalid-r2:-12.90160\n",
      "[50]\ttrain-rmse:37.44741\tvalid-rmse:36.37773\ttrain-r2:-7.46672\tvalid-r2:-8.40705\n",
      "[60]\ttrain-rmse:31.15105\tvalid-rmse:30.01782\ttrain-r2:-4.85891\tvalid-r2:-5.40531\n",
      "[70]\ttrain-rmse:26.08691\tvalid-rmse:24.90733\ttrain-r2:-3.10882\tvalid-r2:-3.40998\n",
      "[80]\ttrain-rmse:22.04894\tvalid-rmse:20.82346\ttrain-r2:-1.93526\tvalid-r2:-2.08239\n",
      "[90]\ttrain-rmse:18.85429\tvalid-rmse:17.59715\ttrain-r2:-1.14631\tvalid-r2:-1.20124\n",
      "[100]\ttrain-rmse:16.34231\tvalid-rmse:15.07592\ttrain-r2:-0.61249\tvalid-r2:-0.61566\n",
      "[110]\ttrain-rmse:14.40489\tvalid-rmse:13.14713\ttrain-r2:-0.25283\tvalid-r2:-0.22869\n",
      "[120]\ttrain-rmse:12.92945\tvalid-rmse:11.68490\ttrain-r2:-0.00933\tvalid-r2:0.02942\n",
      "[130]\ttrain-rmse:11.82024\tvalid-rmse:10.61338\ttrain-r2:0.15642\tvalid-r2:0.19926\n",
      "[140]\ttrain-rmse:10.98693\tvalid-rmse:9.84687\ttrain-r2:0.27117\tvalid-r2:0.31075\n",
      "[150]\ttrain-rmse:10.38052\tvalid-rmse:9.31940\ttrain-r2:0.34941\tvalid-r2:0.38261\n",
      "[160]\ttrain-rmse:9.93012\tvalid-rmse:8.95986\ttrain-r2:0.40464\tvalid-r2:0.42933\n",
      "[170]\ttrain-rmse:9.59792\tvalid-rmse:8.72161\ttrain-r2:0.44381\tvalid-r2:0.45928\n",
      "[180]\ttrain-rmse:9.35303\tvalid-rmse:8.55973\ttrain-r2:0.47183\tvalid-r2:0.47916\n",
      "[190]\ttrain-rmse:9.16865\tvalid-rmse:8.46143\ttrain-r2:0.49245\tvalid-r2:0.49106\n",
      "[200]\ttrain-rmse:9.02312\tvalid-rmse:8.39916\ttrain-r2:0.50843\tvalid-r2:0.49852\n",
      "[210]\ttrain-rmse:8.91931\tvalid-rmse:8.35877\ttrain-r2:0.51968\tvalid-r2:0.50333\n",
      "[220]\ttrain-rmse:8.84158\tvalid-rmse:8.33774\ttrain-r2:0.52801\tvalid-r2:0.50583\n",
      "[230]\ttrain-rmse:8.77967\tvalid-rmse:8.32246\ttrain-r2:0.53460\tvalid-r2:0.50764\n",
      "[240]\ttrain-rmse:8.73258\tvalid-rmse:8.31324\ttrain-r2:0.53958\tvalid-r2:0.50873\n",
      "[250]\ttrain-rmse:8.69099\tvalid-rmse:8.30947\ttrain-r2:0.54395\tvalid-r2:0.50917\n",
      "[260]\ttrain-rmse:8.64040\tvalid-rmse:8.30663\ttrain-r2:0.54925\tvalid-r2:0.50951\n",
      "[270]\ttrain-rmse:8.60971\tvalid-rmse:8.30637\ttrain-r2:0.55244\tvalid-r2:0.50954\n",
      "[280]\ttrain-rmse:8.58291\tvalid-rmse:8.30248\ttrain-r2:0.55522\tvalid-r2:0.51000\n",
      "[290]\ttrain-rmse:8.55397\tvalid-rmse:8.30017\ttrain-r2:0.55822\tvalid-r2:0.51027\n",
      "[300]\ttrain-rmse:8.52610\tvalid-rmse:8.29726\ttrain-r2:0.56109\tvalid-r2:0.51061\n",
      "[310]\ttrain-rmse:8.49757\tvalid-rmse:8.29562\ttrain-r2:0.56403\tvalid-r2:0.51081\n",
      "[320]\ttrain-rmse:8.47065\tvalid-rmse:8.29892\ttrain-r2:0.56678\tvalid-r2:0.51042\n",
      "[330]\ttrain-rmse:8.44864\tvalid-rmse:8.29766\ttrain-r2:0.56903\tvalid-r2:0.51057\n",
      "[340]\ttrain-rmse:8.42042\tvalid-rmse:8.29434\ttrain-r2:0.57191\tvalid-r2:0.51096\n",
      "[350]\ttrain-rmse:8.39948\tvalid-rmse:8.29385\ttrain-r2:0.57403\tvalid-r2:0.51102\n",
      "[360]\ttrain-rmse:8.37473\tvalid-rmse:8.28988\ttrain-r2:0.57654\tvalid-r2:0.51148\n",
      "[370]\ttrain-rmse:8.35257\tvalid-rmse:8.28597\ttrain-r2:0.57878\tvalid-r2:0.51195\n",
      "[380]\ttrain-rmse:8.32785\tvalid-rmse:8.28118\ttrain-r2:0.58127\tvalid-r2:0.51251\n",
      "[390]\ttrain-rmse:8.30706\tvalid-rmse:8.28312\ttrain-r2:0.58335\tvalid-r2:0.51228\n",
      "[400]\ttrain-rmse:8.27939\tvalid-rmse:8.28163\ttrain-r2:0.58613\tvalid-r2:0.51246\n",
      "[410]\ttrain-rmse:8.25749\tvalid-rmse:8.28202\ttrain-r2:0.58831\tvalid-r2:0.51241\n",
      "[420]\ttrain-rmse:8.23252\tvalid-rmse:8.28000\ttrain-r2:0.59080\tvalid-r2:0.51265\n",
      "[430]\ttrain-rmse:8.21241\tvalid-rmse:8.27819\ttrain-r2:0.59280\tvalid-r2:0.51286\n",
      "[440]\ttrain-rmse:8.18403\tvalid-rmse:8.27797\ttrain-r2:0.59561\tvalid-r2:0.51289\n",
      "[450]\ttrain-rmse:8.15920\tvalid-rmse:8.27781\ttrain-r2:0.59806\tvalid-r2:0.51291\n",
      "[460]\ttrain-rmse:8.13247\tvalid-rmse:8.27562\ttrain-r2:0.60069\tvalid-r2:0.51316\n",
      "[470]\ttrain-rmse:8.10775\tvalid-rmse:8.27486\ttrain-r2:0.60311\tvalid-r2:0.51325\n",
      "[480]\ttrain-rmse:8.08627\tvalid-rmse:8.27487\ttrain-r2:0.60521\tvalid-r2:0.51325\n",
      "[490]\ttrain-rmse:8.06218\tvalid-rmse:8.27365\ttrain-r2:0.60756\tvalid-r2:0.51340\n",
      "[500]\ttrain-rmse:8.03734\tvalid-rmse:8.27254\ttrain-r2:0.60997\tvalid-r2:0.51353\n",
      "[510]\ttrain-rmse:8.01405\tvalid-rmse:8.27412\ttrain-r2:0.61223\tvalid-r2:0.51334\n",
      "[520]\ttrain-rmse:7.99345\tvalid-rmse:8.27105\ttrain-r2:0.61422\tvalid-r2:0.51370\n",
      "[530]\ttrain-rmse:7.97343\tvalid-rmse:8.26986\ttrain-r2:0.61615\tvalid-r2:0.51384\n",
      "[540]\ttrain-rmse:7.94952\tvalid-rmse:8.27219\ttrain-r2:0.61845\tvalid-r2:0.51357\n",
      "[550]\ttrain-rmse:7.92872\tvalid-rmse:8.27174\ttrain-r2:0.62044\tvalid-r2:0.51362\n",
      "[560]\ttrain-rmse:7.90573\tvalid-rmse:8.27009\ttrain-r2:0.62264\tvalid-r2:0.51381\n",
      "[570]\ttrain-rmse:7.88359\tvalid-rmse:8.27045\ttrain-r2:0.62475\tvalid-r2:0.51377\n",
      "[580]\ttrain-rmse:7.86478\tvalid-rmse:8.27337\ttrain-r2:0.62654\tvalid-r2:0.51343\n",
      "[590]\ttrain-rmse:7.84604\tvalid-rmse:8.27133\ttrain-r2:0.62832\tvalid-r2:0.51367\n",
      "[600]\ttrain-rmse:7.82698\tvalid-rmse:8.27260\ttrain-r2:0.63012\tvalid-r2:0.51352\n",
      "[610]\ttrain-rmse:7.80521\tvalid-rmse:8.27918\ttrain-r2:0.63218\tvalid-r2:0.51275\n",
      "Stopping. Best iteration:\n",
      "[562]\ttrain-rmse:7.89985\tvalid-rmse:8.26929\ttrain-r2:0.62320\tvalid-r2:0.51391\n",
      "\n",
      "[07:20:19] WARNING: C:/Users/Administrator/workspace/xgboost-win64_release_1.1.0/src/objective/regression_obj.cu:170: reg:linear is now deprecated in favor of reg:squarederror.\n"
     ]
    }
   ],
   "source": [
    "clf = xgb.train(params, d_train, \n",
    "                1000, watchlist, early_stopping_rounds=50, \n",
    "                feval=xgb_r2_score, maximize=True, verbose_eval=10)"
   ]
  },
  {
   "cell_type": "code",
   "execution_count": 25,
   "metadata": {},
   "outputs": [],
   "source": [
    "p_test = clf.predict(d_test)"
   ]
  },
  {
   "cell_type": "code",
   "execution_count": 26,
   "metadata": {},
   "outputs": [],
   "source": [
    "sub = pd.DataFrame()\n",
    "sub['ID'] = id_test\n",
    "sub['y'] = p_test\n",
    "sub.to_csv('xgb.csv', index=False)"
   ]
  },
  {
   "cell_type": "code",
   "execution_count": 27,
   "metadata": {},
   "outputs": [
    {
     "data": {
      "text/html": [
       "<div>\n",
       "<style scoped>\n",
       "    .dataframe tbody tr th:only-of-type {\n",
       "        vertical-align: middle;\n",
       "    }\n",
       "\n",
       "    .dataframe tbody tr th {\n",
       "        vertical-align: top;\n",
       "    }\n",
       "\n",
       "    .dataframe thead th {\n",
       "        text-align: right;\n",
       "    }\n",
       "</style>\n",
       "<table border=\"1\" class=\"dataframe\">\n",
       "  <thead>\n",
       "    <tr style=\"text-align: right;\">\n",
       "      <th></th>\n",
       "      <th>ID</th>\n",
       "      <th>y</th>\n",
       "    </tr>\n",
       "  </thead>\n",
       "  <tbody>\n",
       "    <tr>\n",
       "      <th>0</th>\n",
       "      <td>1</td>\n",
       "      <td>82.857803</td>\n",
       "    </tr>\n",
       "    <tr>\n",
       "      <th>1</th>\n",
       "      <td>2</td>\n",
       "      <td>97.397621</td>\n",
       "    </tr>\n",
       "    <tr>\n",
       "      <th>2</th>\n",
       "      <td>3</td>\n",
       "      <td>82.978432</td>\n",
       "    </tr>\n",
       "    <tr>\n",
       "      <th>3</th>\n",
       "      <td>4</td>\n",
       "      <td>76.824570</td>\n",
       "    </tr>\n",
       "    <tr>\n",
       "      <th>4</th>\n",
       "      <td>5</td>\n",
       "      <td>112.888443</td>\n",
       "    </tr>\n",
       "  </tbody>\n",
       "</table>\n",
       "</div>"
      ],
      "text/plain": [
       "   ID           y\n",
       "0   1   82.857803\n",
       "1   2   97.397621\n",
       "2   3   82.978432\n",
       "3   4   76.824570\n",
       "4   5  112.888443"
      ]
     },
     "execution_count": 27,
     "metadata": {},
     "output_type": "execute_result"
    }
   ],
   "source": [
    "sub.head()"
   ]
  },
  {
   "cell_type": "code",
   "execution_count": null,
   "metadata": {},
   "outputs": [],
   "source": []
  }
 ],
 "metadata": {
  "kernelspec": {
   "display_name": "Python 3",
   "language": "python",
   "name": "python3"
  },
  "language_info": {
   "codemirror_mode": {
    "name": "ipython",
    "version": 3
   },
   "file_extension": ".py",
   "mimetype": "text/x-python",
   "name": "python",
   "nbconvert_exporter": "python",
   "pygments_lexer": "ipython3",
   "version": "3.7.6"
  }
 },
 "nbformat": 4,
 "nbformat_minor": 4
}
